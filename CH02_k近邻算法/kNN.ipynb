{
 "cells": [
  {
   "cell_type": "markdown",
   "metadata": {},
   "source": [
    "# kNN\n",
    "提取样本中最相似的特征数据进行分类，选择前k个最相似的数据。\n",
    "通常k是不大于20的整数，最后选择k个最相似数据中出现次数最多的分类，作为新数据的分类。\n",
    "\n",
    "算法一般流程：\n",
    "1. 收集数据\n",
    "2. 准备数据：最好是结构化的数据格式\n",
    "3. 分析数据\n",
    "4. 计算错误率\n",
    "5. 预测"
   ]
  },
  {
   "cell_type": "markdown",
   "metadata": {},
   "source": [
    "## 1. 准备：使用python导入数据"
   ]
  },
  {
   "cell_type": "code",
   "execution_count": 1,
   "metadata": {
    "collapsed": true
   },
   "outputs": [],
   "source": [
    "import numpy as np\n",
    "from collections import Counter"
   ]
  },
  {
   "cell_type": "code",
   "execution_count": 19,
   "metadata": {
    "collapsed": true
   },
   "outputs": [],
   "source": [
    "def createDataSet():\n",
    "    group = np.array([[1.0, 1.1], [1.0, 1.0], [0.0, 0.0], [0.0, 0.1]])\n",
    "    labels = np.array(['A', 'A', 'B', 'B'])\n",
    "    return group, labels"
   ]
  },
  {
   "cell_type": "code",
   "execution_count": 20,
   "metadata": {
    "collapsed": true
   },
   "outputs": [],
   "source": [
    "group, labels = createDataSet()"
   ]
  },
  {
   "cell_type": "code",
   "execution_count": 21,
   "metadata": {},
   "outputs": [
    {
     "data": {
      "text/plain": [
       "array([[ 1. ,  1.1],\n",
       "       [ 1. ,  1. ],\n",
       "       [ 0. ,  0. ],\n",
       "       [ 0. ,  0.1]])"
      ]
     },
     "execution_count": 21,
     "metadata": {},
     "output_type": "execute_result"
    }
   ],
   "source": [
    "group"
   ]
  },
  {
   "cell_type": "code",
   "execution_count": 22,
   "metadata": {},
   "outputs": [
    {
     "data": {
      "text/plain": [
       "array(['A', 'A', 'B', 'B'],\n",
       "      dtype='|S1')"
      ]
     },
     "execution_count": 22,
     "metadata": {},
     "output_type": "execute_result"
    }
   ],
   "source": [
    "labels"
   ]
  },
  {
   "cell_type": "markdown",
   "metadata": {},
   "source": [
    "## 2. 实施kNN分类算法"
   ]
  },
  {
   "cell_type": "markdown",
   "metadata": {},
   "source": [
    "伪代码：\n",
    "1. 计算已知类别数据集中的点与当前点的距离\n",
    "2. 将距离递增排序\n",
    "3. 选取最小的k个点\n",
    "4. 找到k个点所在类别点概率，选取最高概率作为分类结果"
   ]
  },
  {
   "cell_type": "code",
   "execution_count": 40,
   "metadata": {
    "collapsed": true
   },
   "outputs": [],
   "source": [
    "def classify0(inX, dataSet, labels, k):\n",
    "    m = dataSet.shape[0]\n",
    "    dis = np.linalg.norm(inX - dataSet, axis = 1, ord = 2)\n",
    "    indices = dis.argsort()\n",
    "    voteLabels = []\n",
    "    for i in range(k):\n",
    "        voteLabels.append(labels[indices[i]])\n",
    "    cnt = Counter(voteLabels)\n",
    "    return cnt.most_common(1)[0][0]"
   ]
  },
  {
   "cell_type": "code",
   "execution_count": 41,
   "metadata": {},
   "outputs": [
    {
     "data": {
      "text/plain": [
       "'B'"
      ]
     },
     "execution_count": 41,
     "metadata": {},
     "output_type": "execute_result"
    }
   ],
   "source": [
    "classify0([0, 1], group, labels, 3)"
   ]
  },
  {
   "cell_type": "markdown",
   "metadata": {
    "collapsed": true
   },
   "source": [
    "## 3. 示例：约会网站配对效果"
   ]
  },
  {
   "cell_type": "markdown",
   "metadata": {},
   "source": [
    "约会网站上的人可分为3种：\n",
    "* 不喜欢的人\n",
    "* 魅力一般的人\n",
    "* 极具魅力的人\n",
    "---\n",
    "为了可以将人进行分类，现在收集一些样本，并采集以下3种__特征__:\n",
    "* 每年获得的飞行常客里程数\n",
    "* 玩视频游戏所耗时间百分比\n",
    "* 每周消费的冰激凌公升数"
   ]
  },
  {
   "cell_type": "markdown",
   "metadata": {},
   "source": [
    "### 3.1 收集数据"
   ]
  },
  {
   "cell_type": "code",
   "execution_count": 27,
   "metadata": {
    "collapsed": true
   },
   "outputs": [],
   "source": [
    "def File2Matrix(Filename):\n",
    "    with open(Filename) as f:\n",
    "        lines = f.readlines()\n",
    "        rowNum = len(lines)\n",
    "        firstRow = lines[0].strip()\n",
    "        colNum = len(firstRow.split('\\t'))\n",
    "        X = np.zeros([rowNum, colNum - 1])\n",
    "        Y = np.zeros([rowNum, 1])\n",
    "        for row, line in enumerate(lines):\n",
    "            line = line.strip()\n",
    "            element = line.split('\\t')\n",
    "            X[row, :] = element[:-1]\n",
    "            Y[row, 0] = element[-1]\n",
    "            \n",
    "        return X, Y"
   ]
  },
  {
   "cell_type": "code",
   "execution_count": 28,
   "metadata": {
    "collapsed": true
   },
   "outputs": [],
   "source": [
    "D, Y = File2Matrix('datingTestSet2.txt')"
   ]
  },
  {
   "cell_type": "code",
   "execution_count": null,
   "metadata": {},
   "outputs": [],
   "source": []
  },
  {
   "cell_type": "markdown",
   "metadata": {},
   "source": [
    "### 3.2 初步分析数据"
   ]
  },
  {
   "cell_type": "markdown",
   "metadata": {},
   "source": [
    "使用matplotlib进行数据直观表述"
   ]
  },
  {
   "cell_type": "code",
   "execution_count": 29,
   "metadata": {
    "collapsed": true
   },
   "outputs": [],
   "source": [
    "%matplotlib inline\n",
    "import matplotlib.pyplot as plt"
   ]
  },
  {
   "cell_type": "code",
   "execution_count": 30,
   "metadata": {},
   "outputs": [
    {
     "data": {
      "text/plain": [
       "<matplotlib.text.Text at 0x117396150>"
      ]
     },
     "execution_count": 30,
     "metadata": {},
     "output_type": "execute_result"
    },
    {
     "data": {
      "image/png": "[encoded data removed]",
      "text/plain": [
       "<matplotlib.figure.Figure at 0x10b086e50>"
      ]
     },
     "metadata": {},
     "output_type": "display_data"
    }
   ],
   "source": [
    "plt.scatter(D[:, 1], D[:, 2], 15*Y, 15*Y)\n",
    "plt.xlabel('Game Time')\n",
    "plt.ylabel('Icecream Litter')"
   ]
  },
  {
   "cell_type": "markdown",
   "metadata": {
    "collapsed": true
   },
   "source": [
    "### 3.3 归一化数据"
   ]
  },
  {
   "cell_type": "code",
   "execution_count": 31,
   "metadata": {},
   "outputs": [
    {
     "data": {
      "text/plain": [
       "(1000, 3)"
      ]
     },
     "execution_count": 31,
     "metadata": {},
     "output_type": "execute_result"
    }
   ],
   "source": [
    "D.shape"
   ]
  },
  {
   "cell_type": "code",
   "execution_count": 54,
   "metadata": {
    "collapsed": true
   },
   "outputs": [],
   "source": [
    "def Normalize(DataSet):\n",
    "    minVals = DataSet.min(axis=0)\n",
    "    maxVals = DataSet.max(axis=0)\n",
    "    ranges = maxVals - minVals\n",
    "    NormData = DataSet - minVals\n",
    "    NormData = np.divide(NormData, ranges)\n",
    "    return NormData, ranges, minVals\n",
    "    "
   ]
  },
  {
   "cell_type": "code",
   "execution_count": 55,
   "metadata": {},
   "outputs": [
    {
     "data": {
      "text/plain": [
       "(array([[ 0.44832535,  0.39805139,  0.56233353],\n",
       "        [ 0.15873259,  0.34195467,  0.98724416],\n",
       "        [ 0.28542943,  0.06892523,  0.47449629],\n",
       "        ..., \n",
       "        [ 0.29115949,  0.50910294,  0.51079493],\n",
       "        [ 0.52711097,  0.43665451,  0.4290048 ],\n",
       "        [ 0.47940793,  0.3768091 ,  0.78571804]]),\n",
       " array([  9.12730000e+04,   2.09193490e+01,   1.69436100e+00]),\n",
       " array([ 0.      ,  0.      ,  0.001156]))"
      ]
     },
     "execution_count": 55,
     "metadata": {},
     "output_type": "execute_result"
    }
   ],
   "source": [
    "Normalize(D)"
   ]
  },
  {
   "cell_type": "markdown",
   "metadata": {
    "collapsed": true
   },
   "source": [
    "### 3.4 测试算法"
   ]
  },
  {
   "cell_type": "markdown",
   "metadata": {},
   "source": [
    "将样本划分成两部分，训练集和测试集，分别占90%和10%"
   ]
  },
  {
   "cell_type": "code",
   "execution_count": 60,
   "metadata": {
    "collapsed": true
   },
   "outputs": [],
   "source": [
    "def DatingClassTest(Ratio):\n",
    "    totalX, totalY = File2Matrix('datingTestSet2.txt')\n",
    "    normTotalX, _, _ = Normalize(totalX)\n",
    "    m = normTotalX.shape[0]\n",
    "    # train: 90%, test: 10%  \n",
    "    testStartIndex = int(m * (1 - Ratio))\n",
    "    trainX = normTotalX[0:testStartIndex, :]\n",
    "    trainY = totalY[0:testStartIndex, :]\n",
    "    testX = normTotalX[testStartIndex:, :]\n",
    "    testY = totalY[testStartIndex:, :]\n",
    "    error = 0.0\n",
    "    for i in range(testX.shape[0]):\n",
    "        result = classify0(testX[i, :], trainX, trainY.flatten(), 3)        \n",
    "        if (result != testY[i]):\n",
    "            error += 1\n",
    "            print 'The classifier came back with: %d, the real answer is: %d' % (result, testY[i])\n",
    "    print 'Total error count is %d, rate is %.4f' % (error, error / float(testX.shape[0]))"
   ]
  },
  {
   "cell_type": "code",
   "execution_count": 61,
   "metadata": {},
   "outputs": [
    {
     "name": "stdout",
     "output_type": "stream",
     "text": [
      "The classifier came back with: 1, the real answer is: 2\n",
      "The classifier came back with: 2, the real answer is: 1\n",
      "The classifier came back with: 1, the real answer is: 2\n",
      "The classifier came back with: 3, the real answer is: 2\n",
      "The classifier came back with: 1, the real answer is: 3\n",
      "The classifier came back with: 2, the real answer is: 3\n",
      "The classifier came back with: 1, the real answer is: 3\n",
      "The classifier came back with: 1, the real answer is: 2\n",
      "The classifier came back with: 2, the real answer is: 3\n",
      "The classifier came back with: 3, the real answer is: 2\n",
      "The classifier came back with: 3, the real answer is: 2\n",
      "Total error count is 11, rate is 0.0367\n"
     ]
    }
   ],
   "source": [
    "DatingClassTest(0.3)"
   ]
  },
  {
   "cell_type": "markdown",
   "metadata": {},
   "source": [
    "按照3:7划分数据得到的错误率是3.7%"
   ]
  },
  {
   "cell_type": "markdown",
   "metadata": {
    "collapsed": true
   },
   "source": [
    "### 3.5 实际预测"
   ]
  },
  {
   "cell_type": "code",
   "execution_count": 68,
   "metadata": {
    "collapsed": true
   },
   "outputs": [],
   "source": [
    "def Predict():\n",
    "    labels = ['不够吸引', '一般', '特别有魅力']\n",
    "    percentTats = float(raw_input('玩游戏的时间占用比例：'))\n",
    "    ffMiles = float(raw_input('每年飞行里程数：'))\n",
    "    iceCream = float(raw_input('每年消费冰激淋公升数：'))\n",
    "    totalX, totalY = File2Matrix('datingTestSet2.txt')\n",
    "    normTotalX, ranges, minVals = Normalize(totalX)\n",
    "    inX = np.array([ffMiles, percentTats, iceCream])\n",
    "    result = classify0((inX - minVals) / ranges, normTotalX, totalY.flatten(), 3)\n",
    "    print '有可能遇到的人是：%s' % labels[int(result - 1)]"
   ]
  },
  {
   "cell_type": "code",
   "execution_count": 69,
   "metadata": {},
   "outputs": [
    {
     "name": "stdout",
     "output_type": "stream",
     "text": [
      "玩游戏的时间占用比例：10\n",
      "每年飞行里程数：10000\n",
      "每年消费冰激淋公升数：0.5\n",
      "有可能遇到的人是：一般\n"
     ]
    }
   ],
   "source": [
    "Predict()"
   ]
  },
  {
   "cell_type": "markdown",
   "metadata": {},
   "source": [
    "## 4. 手写识别系统"
   ]
  },
  {
   "cell_type": "markdown",
   "metadata": {},
   "source": [
    "识别数字0-9，已经经过图像处理，每个数字都是相同的色彩和大小，宽和高是32\\*32像素"
   ]
  },
  {
   "cell_type": "markdown",
   "metadata": {},
   "source": [
    "### 4.1 准备数据：将图像转换成测试向量"
   ]
  },
  {
   "cell_type": "markdown",
   "metadata": {},
   "source": [
    "将32\\*32的矩阵转化成一个1\\*1024的向量，下面将实现一个转换文本为向量的方法"
   ]
  },
  {
   "cell_type": "code",
   "execution_count": 103,
   "metadata": {
    "collapsed": true
   },
   "outputs": [],
   "source": [
    "def Img2Vec(filename):\n",
    "    Vec = np.zeros([32, 32])\n",
    "    with open(filename) as f:\n",
    "        total = f.readlines()\n",
    "        for row, col in enumerate(total):\n",
    "            Vec[row, :] = np.r_[list(col.strip())]\n",
    "    return Vec.reshape([1, 1024])"
   ]
  },
  {
   "cell_type": "code",
   "execution_count": 108,
   "metadata": {
    "collapsed": true
   },
   "outputs": [],
   "source": [
    "D = Img2Vec('digits/trainingDigits/3_106.txt')"
   ]
  },
  {
   "cell_type": "markdown",
   "metadata": {},
   "source": [
    "### 4.2 测试算法"
   ]
  },
  {
   "cell_type": "code",
   "execution_count": 128,
   "metadata": {},
   "outputs": [],
   "source": [
    "from os import listdir\n",
    "def HandWritingTest():\n",
    "    ## get training data\n",
    "    trainingFiles = listdir('digits/trainingDigits/')\n",
    "    m = len(trainingFiles)\n",
    "    trainX = np.zeros([m, 1024])\n",
    "    trainY = np.zeros([m, 1])\n",
    "    for i, f in enumerate(trainingFiles):\n",
    "        trainX[i, :] = Img2Vec('digits/trainingDigits/' + f)\n",
    "        tempY = int(f.split('.')[0].split('_')[0])\n",
    "        trainY[i, :] = tempY\n",
    "    \n",
    "    ## get test data\n",
    "    testFiles = listdir('digits/testDigits/')\n",
    "    error = 0.0\n",
    "    for f in testFiles:\n",
    "        testX = Img2Vec('digits/testDigits/' + f)\n",
    "        testY = classify0(testX, trainX, trainY.flatten(), 3)\n",
    "        testLabel = int(f.split('.')[0].split('_')[0])\n",
    "        if (testY != testLabel):\n",
    "            error += 1\n",
    "            print 'The classifier came back with: %d, the real answer is: %d' % (testY, testLabel)\n",
    "    print 'Total error count is %d, rate is %.4f' % (error, error / len(testFiles))"
   ]
  },
  {
   "cell_type": "code",
   "execution_count": 129,
   "metadata": {},
   "outputs": [
    {
     "name": "stdout",
     "output_type": "stream",
     "text": [
      "The classifier came back with: 1, the real answer is: 8\n",
      "The classifier came back with: 3, the real answer is: 8\n",
      "The classifier came back with: 7, the real answer is: 9\n",
      "The classifier came back with: 9, the real answer is: 3\n",
      "The classifier came back with: 1, the real answer is: 8\n",
      "The classifier came back with: 1, the real answer is: 9\n",
      "The classifier came back with: 1, the real answer is: 8\n",
      "The classifier came back with: 9, the real answer is: 3\n",
      "The classifier came back with: 7, the real answer is: 1\n",
      "The classifier came back with: 6, the real answer is: 5\n",
      "The classifier came back with: 3, the real answer is: 5\n",
      "The classifier came back with: 6, the real answer is: 8\n",
      "Total error count is 12, rate is 0.0127\n"
     ]
    }
   ],
   "source": [
    "HandWritingTest()"
   ]
  },
  {
   "cell_type": "code",
   "execution_count": null,
   "metadata": {
    "collapsed": true
   },
   "outputs": [],
   "source": []
  }
 ],
 "metadata": {
  "kernelspec": {
   "display_name": "Python 2",
   "language": "python",
   "name": "python2"
  },
  "language_info": {
   "codemirror_mode": {
    "name": "ipython",
    "version": 2
   },
   "file_extension": ".py",
   "mimetype": "text/x-python",
   "name": "python",
   "nbconvert_exporter": "python",
   "pygments_lexer": "ipython2",
   "version": "2.7.14"
  }
 },
 "nbformat": 4,
 "nbformat_minor": 2
}
