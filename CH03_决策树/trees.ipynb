{
 "cells": [
  {
   "cell_type": "markdown",
   "metadata": {},
   "source": [
    "# 决策树\n",
    "类似于编程过程中的if/else，在多个决策模块进行处理后，最终到达一个终止模块，得出分类的类别。\n",
    "\n",
    "## 1 决策树的构造\n",
    "首先我们讨论数学上如何运用**信息论**划分数据集，然后将理论应用到具体数据集上，最后构造决策树。\n",
    "\n",
    "分析一个问题时，需要找到哪个特性对于划分起到了决定性的作用，所以先要评估每个特征，找出决定性的特征。\n",
    "\n",
    "完成评估后，数据就会被划分成几个数据子集，这些数据子集会分布在第一个决策点的所有分支，如果某个分支下的所有数据属于同一类型，则一个分类完成，否则进一步进行划分，一直迭代直到所有的相同类型的数据都划分在一个数据子集内。\n",
    "\n",
    "有些决策树使用二分法划分数据，这里我们使用[ID3](https://en.wikipedia.org/wiki/ID3_algorithm)算法划分数据集。每次划分数据我们只选取一个特征属性，那么如何决定第一个特征呢？\n",
    "\n",
    "### 1.1 信息增益\n",
    "* *信息增益* -- *Information Gain*\n",
    "* *熵* -- *Entropy*\n",
    "\n",
    "“熵”定义为信息的期望值，如果待分类的事物可能划分在多个分类中，符号x的信息定义为\n",
    "$$l(x_i) = -\\log_2p(x_i)$$\n",
    "\n",
    "所以计算所有类别所有可能值包含的信息期望值，就是\n",
    "$$Ent(D) = -\\sum_{i=1}^{n}p(x_i)\\log_2p(x_i)$$\n",
    "\n",
    "下面通过代码来实现熵的计算"
   ]
  },
  {
   "cell_type": "code",
   "execution_count": 1,
   "metadata": {
    "collapsed": true
   },
   "outputs": [],
   "source": [
    "import numpy as np"
   ]
  },
  {
   "cell_type": "code",
   "execution_count": 2,
   "metadata": {
    "collapsed": true
   },
   "outputs": [],
   "source": [
    "def CalcEnt(dataSet):\n",
    "    total_num = len(dataSet)\n",
    "    # 先找到总共有多少类别，将每个类别作为键值放到字典中\n",
    "    labels = {}\n",
    "    for data in dataSet:\n",
    "        current_label = data[-1]\n",
    "        if current_label not in labels.keys():\n",
    "            labels[current_label] = 0\n",
    "        labels[current_label] += 1\n",
    "        \n",
    "    Ent = 0.0\n",
    "    for key in labels:\n",
    "        p = labels[key] / float(total_num)\n",
    "        Ent -= p * np.log2(p)\n",
    "        \n",
    "    return Ent"
   ]
  },
  {
   "cell_type": "code",
   "execution_count": 3,
   "metadata": {},
   "outputs": [],
   "source": [
    "dataSet = [[1, 1, 'yes'], [1, 1, 'yes'], [1, 0, 'no'], [0, 1, 'no'], [0, 1, 'no']]"
   ]
  },
  {
   "cell_type": "code",
   "execution_count": 4,
   "metadata": {},
   "outputs": [
    {
     "data": {
      "text/plain": [
       "0.97095059445466858"
      ]
     },
     "execution_count": 4,
     "metadata": {},
     "output_type": "execute_result"
    }
   ],
   "source": [
    "CalcEnt(dataSet)"
   ]
  },
  {
   "cell_type": "markdown",
   "metadata": {},
   "source": [
    "上面例子中，n=2（只有yes/no两个类），\n",
    "$$Ent(D) = - \\frac{2}{5}\\log_2\\frac{2}{5} - \\frac{3}{5}\\log_2\\frac{3}{5} = 0.97095$$\n",
    "熵越高，代表分类越多，数据混合越多。\n",
    "___\n",
    "*信息增益*是指划分数据之后的变化，是能够让熵减小的效果。公式为\n",
    "$$Gain(D, f) = Ent(D) - \\sum^{V}_{v=1}\\frac{|D^v|}{|D|}Ent(D^v)$$\n",
    "$|D|$表示样本D的个数，$|D^v|$表示特征$f$中的一个类$v$的个数。\n",
    "\n",
    "拿上面的数据举例，$|D| = 5$，如果我们看第一个特征，也就是[1, 1, 1, 0, 0]这5个样本，这5个样本共有2个分类，我们说$|D^0| = 2$，$|D^1| = 3$，而$Ent(D^v)$这个值就是在（假设$Ent(D^1)$）3个样本里面计算取值为1时，yes/no的熵。"
   ]
  },
  {
   "cell_type": "markdown",
   "metadata": {},
   "source": [
    "### 1.2 划分数据\n",
    "我们将每个特征划分数据集的结果计算一次信息熵，然后判断哪个是最好的划分。"
   ]
  },
  {
   "cell_type": "code",
   "execution_count": 7,
   "metadata": {},
   "outputs": [],
   "source": [
    "num_features = len(dataSet[0]) - 1\n",
    "ent_D = CalcEnt(dataSet)\n",
    "# 第0个特征，f0; 取值0，1\n",
    "f0_D0 = [data for data in dataSet if data[0] == 0]\n",
    "f0_D1 = [data for data in dataSet if data[0] == 1]\n",
    "ent_D0 = CalcEnt(f0_D0)\n",
    "ent_D1 = CalcEnt(f0_D1)\n",
    "prob0 = len(f0_D0) / float(len(dataSet))\n",
    "prob1 = len(f0_D1) / float(len(dataSet))\n",
    "gain0 = ent_D - (prob0 * ent_D0 + prob1 * ent_D1)\n",
    "# 第1个特征，f1; 取值0，1\n",
    "f1_D0 = [data for data in dataSet if data[1] == 0]\n",
    "f1_D1 = [data for data in dataSet if data[1] == 1]\n",
    "ent_D0 = CalcEnt(f1_D0)\n",
    "ent_D1 = CalcEnt(f1_D1)\n",
    "prob0 = len(f1_D0) / float(len(dataSet))\n",
    "prob1 = len(f1_D1) / float(len(dataSet))\n",
    "gain1 = ent_D - (prob0 * ent_D0 + prob1 * ent_D1)"
   ]
  },
  {
   "cell_type": "code",
   "execution_count": 8,
   "metadata": {},
   "outputs": [
    {
     "data": {
      "text/plain": [
       "(0.41997309402197491, 0.17095059445466854)"
      ]
     },
     "execution_count": 8,
     "metadata": {},
     "output_type": "execute_result"
    }
   ],
   "source": [
    "gain0, gain1"
   ]
  },
  {
   "cell_type": "markdown",
   "metadata": {},
   "source": [
    "从上面可以看出第0个特征值的信息增益大，也就是说这个特征对结果的影响大。下面重构一下以上代码。"
   ]
  },
  {
   "cell_type": "markdown",
   "metadata": {},
   "source": [
    "分两个步骤，第一步将数据按照某个特征进行假设划分，第二步再计算按照这种划分方式得到的信息增益，进而选择最好的划分特征。  \n",
    "上面例子中获取f0_D0就是在划分数据"
   ]
  },
  {
   "cell_type": "code",
   "execution_count": 9,
   "metadata": {},
   "outputs": [],
   "source": [
    "def SplitDataSet(DataSet, Feature, Value):\n",
    "    '''\n",
    "    Feature：需要划分的特征\n",
    "    Value：该特征按照Value进行划分\n",
    "    '''\n",
    "    SplitData = []\n",
    "    for data in DataSet:\n",
    "        if data[Feature] == Value:\n",
    "            tempData = data[:Feature]\n",
    "            tempData.extend(data[Feature+1:])\n",
    "            SplitData.append(tempData)\n",
    "    return SplitData"
   ]
  },
  {
   "cell_type": "code",
   "execution_count": 10,
   "metadata": {},
   "outputs": [
    {
     "data": {
      "text/plain": [
       "[[1, 1, 'yes'], [1, 1, 'yes'], [1, 0, 'no'], [0, 1, 'no'], [0, 1, 'no']]"
      ]
     },
     "execution_count": 10,
     "metadata": {},
     "output_type": "execute_result"
    }
   ],
   "source": [
    "dataSet"
   ]
  },
  {
   "cell_type": "code",
   "execution_count": 11,
   "metadata": {},
   "outputs": [
    {
     "data": {
      "text/plain": [
       "[[1, 'yes'], [1, 'yes'], [0, 'no']]"
      ]
     },
     "execution_count": 11,
     "metadata": {},
     "output_type": "execute_result"
    }
   ],
   "source": [
    "SplitDataSet(dataSet, 0, 1)"
   ]
  },
  {
   "cell_type": "code",
   "execution_count": 16,
   "metadata": {
    "collapsed": true
   },
   "outputs": [],
   "source": [
    "def ChooseBestFeature(D):\n",
    "    num_features = len(D[0]) - 1\n",
    "    num_examples = len(D)\n",
    "    ent_D = CalcEnt(D)\n",
    "    gain = []\n",
    "    # 对每个特征进行处理\n",
    "    for index_feature in range(num_features):\n",
    "        # 获取该特征的所有不重复值\n",
    "        values_feature = [data[index_feature] for data in D]\n",
    "        values = set(values_feature)\n",
    "        gain_f = ent_D\n",
    "        # 对每个取值进行分类\n",
    "        for v in values:\n",
    "            Dv = SplitDataSet(D, index_feature, v)\n",
    "            prob = len(Dv) / float(num_examples)\n",
    "            ent_Dv = CalcEnt(Dv)\n",
    "            gain_f -= prob * ent_Dv\n",
    "        gain.append(gain_f)\n",
    "    return gain.index(max(gain))"
   ]
  },
  {
   "cell_type": "code",
   "execution_count": 17,
   "metadata": {},
   "outputs": [
    {
     "data": {
      "text/plain": [
       "0"
      ]
     },
     "execution_count": 17,
     "metadata": {},
     "output_type": "execute_result"
    }
   ],
   "source": [
    "ChooseBestFeature(dataSet)"
   ]
  },
  {
   "cell_type": "markdown",
   "metadata": {},
   "source": [
    "### 1.3 递归构建决策树\n",
    "得到一组数据后，基于最好的特征进行划分，将划分特征的数据集作为上一次划分的原始数据，对剩下的特征再次进行划分。结束的条件是：\n",
    "- 程序遍历完所有的属性\n",
    "- 每个分支下的所有实例都属于相同的分类，这种情况产生一个叶节点\n",
    "\n",
    "以上面的数据为例，\n",
    "<table>\n",
    "    <tr><td/><td>Feature0</td><td>Feature1</td><td>Label</td></tr>\n",
    "    <tr><td>1</td><td>1</td><td>1</td><td>yes</td></tr>\n",
    "    <tr><td>2</td><td>1</td><td>1</td><td>yes</td></tr>\n",
    "    <tr><td>3</td><td>1</td><td>0</td><td>no</td></tr>\n",
    "    <tr><td>4</td><td>0</td><td>1</td><td>no</td></tr>\n",
    "    <tr><td>5</td><td>0</td><td>1</td><td>no</td></tr>\n",
    "</table>\n",
    "\n",
    "确定了第0个特征划分后，以F0为基础数据，进行划分。\n",
    "\n",
    "F0有两个取值0/1，如果取0，则得到的都在no这一类中，满足所有实例属于相同分类的条件，直接产生叶节点，并且值为no。\n",
    "\n",
    "如果取1，则有yes, yes, no这些结果，分别是1、2、3的实例。下面继续在这3个实例中寻找最佳划分，结果是F1，实际上也只有这一个特征了。\n",
    "同样的方法，F1也有两个取值，取0全为no，取1全为yes，则决策树构造完成。"
   ]
  },
  {
   "cell_type": "code",
   "execution_count": 18,
   "metadata": {
    "collapsed": true
   },
   "outputs": [],
   "source": [
    "from collections import Counter\n",
    "features = [\"F0\", \"F1\"]\n",
    "tree = {}"
   ]
  },
  {
   "cell_type": "code",
   "execution_count": 97,
   "metadata": {},
   "outputs": [],
   "source": [
    "def CreateNode(D, Labels):\n",
    "    \n",
    "    # 所有特征都遍历过了，也就是说剩下的只有labels了\n",
    "    if len(D[0]) == 1:\n",
    "        cnt = Counter([d[0] for d in D])\n",
    "        return cnt.most_common()[0][0]\n",
    "\n",
    "    # 该分支下所有类别都是同一个类\n",
    "    labels = set([data[-1] for data in D])\n",
    "    if len(labels) == 1:\n",
    "        return list(labels)[0]\n",
    "\n",
    "    # 还需要继续划分树\n",
    "    bestFeature = ChooseBestFeature(D)\n",
    "    bestLabels = Labels[bestFeature]\n",
    "    Node = {bestLabels: {}}\n",
    "    del(Labels[bestFeature])\n",
    "    featureValues = set([data[bestFeature] for data in D])\n",
    "    for value in featureValues:\n",
    "        subLabels = Labels[:]\n",
    "        Node[bestLabels][value] = CreateNode(SplitDataSet(D, bestFeature, value), subLabels)\n",
    "    return Node"
   ]
  },
  {
   "cell_type": "code",
   "execution_count": 98,
   "metadata": {},
   "outputs": [],
   "source": [
    "tree = CreateNode(dataSet, ['no surfacing', 'flippers'])"
   ]
  },
  {
   "cell_type": "code",
   "execution_count": 99,
   "metadata": {},
   "outputs": [
    {
     "data": {
      "text/plain": [
       "{'no surfacing': {0: 'no', 1: {'flippers': {0: 'no', 1: 'yes'}}}}"
      ]
     },
     "execution_count": 99,
     "metadata": {},
     "output_type": "execute_result"
    }
   ],
   "source": [
    "tree"
   ]
  },
  {
   "cell_type": "markdown",
   "metadata": {
    "collapsed": true
   },
   "source": [
    "## 2 决策树的绘制"
   ]
  },
  {
   "cell_type": "markdown",
   "metadata": {},
   "source": [
    "上面的决策树使用字典的形式，不容易直观看出树的结构，下面将使用绘图的方式表达决策树"
   ]
  },
  {
   "cell_type": "markdown",
   "metadata": {},
   "source": [
    "### 2.1 基本绘图 annotate注解  \n",
    "matplotlib提供了一个库函数[annotate](https://matplotlib.org/users/annotations.html)，此函数功能是对图形中具体内容通过箭头进行注解，这里利用这个功能作为树的基本结构"
   ]
  },
  {
   "cell_type": "code",
   "execution_count": 25,
   "metadata": {
    "collapsed": true
   },
   "outputs": [],
   "source": [
    "import matplotlib.pyplot as plt\n",
    "%matplotlib inline"
   ]
  },
  {
   "cell_type": "code",
   "execution_count": 103,
   "metadata": {
    "collapsed": true
   },
   "outputs": [],
   "source": [
    "# 定义文本框 和 箭头格式\n",
    "# sawtooth 波浪方框, round4 矩形方框 , fc表示字体颜色的深浅 0.1~0.9 依次变浅\n",
    "decisionNode = {'boxstyle': 'sawtooth', 'fc': '0.8'}\n",
    "leafNode = {'boxstyle': 'round4', 'fc': '0.8'}\n",
    "arrowArgs = {'arrowstyle': '<-'}\n",
    "\n",
    "\n",
    "def PlotNode(NodeText, CurrentPtr, ParentPtr, NodeType):\n",
    "    CreatePlot.ax1.annotate(NodeText, xy=ParentPtr, xycoords='axes fraction',\n",
    "            xytext=CurrentPtr, textcoords='axes fraction',\n",
    "            va='center', ha='center', bbox=NodeType, arrowprops=arrowArgs)\n",
    "\n",
    "def PlotMidText(Text, CurrentPtr, ParentPtr):\n",
    "    x = (CurrentPtr[0] + ParentPtr[0]) / 2.0\n",
    "    y = (CurrentPtr[1] + ParentPtr[1]) / 2.0\n",
    "    CreatePlot.ax1.text(x, y, Text)\n",
    "                                                                \n",
    "def CreatePlot(Tree=None):\n",
    "    fig = plt.figure(1, facecolor='white')\n",
    "    fig.clf()\n",
    "    \n",
    "    if Tree is not None:\n",
    "        CreatePlot.ax1 = plt.subplot(111, frameon=False)\n",
    "        \n",
    "        PlotTree.totalX = GetLeafNum(Tree)\n",
    "        PlotTree.totalY = GetTreeDepth(Tree)\n",
    "        PlotTree.xOff = -0.5 / PlotTree.totalX\n",
    "        PlotTree.yOff = 1.0\n",
    "    \n",
    "        PlotTree(Tree, (0.5, 1.0), '')\n",
    "    else:\n",
    "        CreatePlot.ax1 = plt.subplot(111, frameon=False)\n",
    "        currentPtr1 = (0.5, 0.1)\n",
    "        parentPtr1 = (0.1, 0.5)\n",
    "        currentPtr2 = (0.8, 0.1)\n",
    "        parentPtr2 = (0.3, 0.8)\n",
    "        PlotNode('Decision Node', currentPtr1, parentPtr1, decisionNode)\n",
    "        PlotNode('Leaf Node', currentPtr2, parentPtr2, leafNode)\n",
    "        PlotMidText('0', currentPtr1, parentPtr1)\n",
    "        PlotMidText('1', currentPtr2, parentPtr2)"
   ]
  },
  {
   "cell_type": "code",
   "execution_count": 51,
   "metadata": {},
   "outputs": [
    {
     "data": {
      "image/png": "[encoded data removed]",
      "text/plain": [
       "<matplotlib.figure.Figure at 0x10da30550>"
      ]
     },
     "metadata": {},
     "output_type": "display_data"
    }
   ],
   "source": [
    "CreatePlot()"
   ]
  },
  {
   "cell_type": "markdown",
   "metadata": {},
   "source": [
    "### 2.2 确认树的深度和叶节点个数  \n",
    "要确认x轴的长度，就要知道叶子节点的个数，要确认y轴的长度，就要知道树的深度。"
   ]
  },
  {
   "cell_type": "code",
   "execution_count": 47,
   "metadata": {},
   "outputs": [],
   "source": [
    "def GetLeafNum(Tree):\n",
    "    LeafNum = 0\n",
    "    for node in Tree.values():\n",
    "        if type(node) is dict:\n",
    "            LeafNum += GetLeafNum(node)\n",
    "        else:\n",
    "            LeafNum += 1\n",
    "    return LeafNum\n",
    "\n",
    "def getTreeDictDepth(Tree):\n",
    "    Depth = 0\n",
    "    for node in Tree.values():\n",
    "        if type(node) is dict:\n",
    "            nodeDepth = 1 + getTreeDictDepth(node)\n",
    "        else:\n",
    "            nodeDepth = 1\n",
    "        Depth = max(nodeDepth, Depth)\n",
    "    return Depth\n",
    "    \n",
    "def GetTreeDepth(Tree):\n",
    "    return getTreeDictDepth(Tree) / 2 + 1"
   ]
  },
  {
   "cell_type": "code",
   "execution_count": 49,
   "metadata": {},
   "outputs": [
    {
     "data": {
      "text/plain": [
       "(3, 3)"
      ]
     },
     "execution_count": 49,
     "metadata": {},
     "output_type": "execute_result"
    }
   ],
   "source": [
    "GetLeafNum(tree), GetTreeDepth(tree)"
   ]
  },
  {
   "cell_type": "markdown",
   "metadata": {},
   "source": [
    "### 2.3 绘制决策树"
   ]
  },
  {
   "cell_type": "code",
   "execution_count": 87,
   "metadata": {},
   "outputs": [],
   "source": [
    "def PlotTree(Tree, ParentPtr, NodeText):\n",
    "    leafNum = GetLeafNum(Tree)\n",
    "    treeDepth = GetTreeDepth(Tree)\n",
    "    \n",
    "    # Find center position\n",
    "    xUnit = 1.0 / PlotTree.totalX\n",
    "    yUnit = 1.0 / PlotTree.totalY\n",
    "    centerPtr = (PlotTree.xOff + (1 + leafNum) / 2.0 * xUnit, PlotTree.yOff)\n",
    "    print centerPtr\n",
    "    \n",
    "    # 绘制自身节点之前，先绘制箭头指向父节点\n",
    "    PlotMidText(NodeText, centerPtr, ParentPtr)\n",
    "    \n",
    "    # 绘制自身节点\n",
    "    firstStr = list(Tree.keys())[0]\n",
    "    PlotNode(firstStr, centerPtr, ParentPtr, decisionNode)\n",
    "    \n",
    "    # 递归树结构\n",
    "    subTree = Tree[firstStr]\n",
    "    PlotTree.yOff -= yUnit\n",
    "    for key in subTree.keys():\n",
    "        if type(subTree[key]) is dict:\n",
    "            PlotTree(subTree[key], centerPtr, str(key))\n",
    "        else:\n",
    "            PlotTree.xOff += xUnit\n",
    "            PlotNode(subTree[key], (PlotTree.xOff, PlotTree.yOff), centerPtr, leafNode)\n",
    "            PlotMidText(str(key), (PlotTree.xOff, PlotTree.yOff), centerPtr)\n",
    "            \n",
    "    PlotTree.yOff += yUnit"
   ]
  },
  {
   "cell_type": "code",
   "execution_count": 104,
   "metadata": {},
   "outputs": [
    {
     "name": "stdout",
     "output_type": "stream",
     "text": [
      "(0.5, 1.0)\n",
      "(0.6666666666666666, 0.6666666666666667)\n"
     ]
    },
    {
     "data": {
      "image/png": "[encoded data removed]",
      "text/plain": [
       "<matplotlib.figure.Figure at 0x10e1e9cd0>"
      ]
     },
     "metadata": {},
     "output_type": "display_data"
    }
   ],
   "source": [
    "CreatePlot(tree)"
   ]
  },
  {
   "cell_type": "code",
   "execution_count": 105,
   "metadata": {},
   "outputs": [
    {
     "data": {
      "text/plain": [
       "{'no surfacing': {0: 'no', 1: {'flippers': {0: 'no', 1: 'yes'}}}}"
      ]
     },
     "execution_count": 105,
     "metadata": {},
     "output_type": "execute_result"
    }
   ],
   "source": [
    "tree"
   ]
  },
  {
   "cell_type": "markdown",
   "metadata": {},
   "source": [
    "## 3 测试决策树"
   ]
  },
  {
   "cell_type": "code",
   "execution_count": 107,
   "metadata": {},
   "outputs": [],
   "source": [
    "def Predict(Tree, Feature, TestVec):\n",
    "    firstStr = Tree.keys()[0]\n",
    "    secondDict = Tree[firstStr]\n",
    "    featureIndex = Feature.index(firstStr)\n",
    "    for key in secondDict.keys():\n",
    "        if TestVec[featureIndex] == key:\n",
    "            if type(secondDict[key]) is dict:\n",
    "                Result = Predict(secondDict[key], Feature, TestVec)\n",
    "            else:\n",
    "                Result = secondDict[key]\n",
    "    return Result"
   ]
  },
  {
   "cell_type": "code",
   "execution_count": 108,
   "metadata": {},
   "outputs": [
    {
     "data": {
      "text/plain": [
       "'no'"
      ]
     },
     "execution_count": 108,
     "metadata": {},
     "output_type": "execute_result"
    }
   ],
   "source": [
    "Predict(tree, ['no surfacing', 'flippers'], [1, 0])"
   ]
  },
  {
   "cell_type": "code",
   "execution_count": 109,
   "metadata": {},
   "outputs": [
    {
     "data": {
      "text/plain": [
       "'yes'"
      ]
     },
     "execution_count": 109,
     "metadata": {},
     "output_type": "execute_result"
    }
   ],
   "source": [
    "Predict(tree, ['no surfacing', 'flippers'], [1, 1])"
   ]
  },
  {
   "cell_type": "markdown",
   "metadata": {},
   "source": [
    "## 4 保存决策树"
   ]
  },
  {
   "cell_type": "code",
   "execution_count": 110,
   "metadata": {
    "collapsed": true
   },
   "outputs": [],
   "source": [
    "def StoreTree(Tree, Filename):\n",
    "    import pickle\n",
    "    f = open(Filename, 'w')\n",
    "    pickle.dump(Tree, f)\n",
    "    f.close()\n",
    "    \n",
    "def GrabTree(Filename):\n",
    "    import pickle\n",
    "    f = open(Filename, 'r')\n",
    "    return pickle.load(f)"
   ]
  },
  {
   "cell_type": "code",
   "execution_count": 111,
   "metadata": {
    "collapsed": true
   },
   "outputs": [],
   "source": [
    "StoreTree(tree, 'TreeStorage.txt')"
   ]
  },
  {
   "cell_type": "code",
   "execution_count": 112,
   "metadata": {},
   "outputs": [
    {
     "data": {
      "text/plain": [
       "{'no surfacing': {0: 'no', 1: {'flippers': {0: 'no', 1: 'yes'}}}}"
      ]
     },
     "execution_count": 112,
     "metadata": {},
     "output_type": "execute_result"
    }
   ],
   "source": [
    "GrabTree('TreeStorage.txt')"
   ]
  },
  {
   "cell_type": "markdown",
   "metadata": {},
   "source": [
    "## 5 示例测试"
   ]
  },
  {
   "cell_type": "code",
   "execution_count": 113,
   "metadata": {
    "collapsed": true
   },
   "outputs": [],
   "source": [
    "f = open('lenses.txt')"
   ]
  },
  {
   "cell_type": "code",
   "execution_count": 114,
   "metadata": {
    "collapsed": true
   },
   "outputs": [],
   "source": [
    "lenses = [inst.strip().split('\\t') for inst in f.readlines()]"
   ]
  },
  {
   "cell_type": "code",
   "execution_count": 115,
   "metadata": {},
   "outputs": [
    {
     "data": {
      "text/plain": [
       "[['young', 'myope', 'no', 'reduced', 'no lenses'],\n",
       " ['young', 'myope', 'no', 'normal', 'soft'],\n",
       " ['young', 'myope', 'yes', 'reduced', 'no lenses'],\n",
       " ['young', 'myope', 'yes', 'normal', 'hard'],\n",
       " ['young', 'hyper', 'no', 'reduced', 'no lenses'],\n",
       " ['young', 'hyper', 'no', 'normal', 'soft'],\n",
       " ['young', 'hyper', 'yes', 'reduced', 'no lenses'],\n",
       " ['young', 'hyper', 'yes', 'normal', 'hard'],\n",
       " ['pre', 'myope', 'no', 'reduced', 'no lenses'],\n",
       " ['pre', 'myope', 'no', 'normal', 'soft'],\n",
       " ['pre', 'myope', 'yes', 'reduced', 'no lenses'],\n",
       " ['pre', 'myope', 'yes', 'normal', 'hard'],\n",
       " ['pre', 'hyper', 'no', 'reduced', 'no lenses'],\n",
       " ['pre', 'hyper', 'no', 'normal', 'soft'],\n",
       " ['pre', 'hyper', 'yes', 'reduced', 'no lenses'],\n",
       " ['pre', 'hyper', 'yes', 'normal', 'no lenses'],\n",
       " ['presbyopic', 'myope', 'no', 'reduced', 'no lenses'],\n",
       " ['presbyopic', 'myope', 'no', 'normal', 'no lenses'],\n",
       " ['presbyopic', 'myope', 'yes', 'reduced', 'no lenses'],\n",
       " ['presbyopic', 'myope', 'yes', 'normal', 'hard'],\n",
       " ['presbyopic', 'hyper', 'no', 'reduced', 'no lenses'],\n",
       " ['presbyopic', 'hyper', 'no', 'normal', 'soft'],\n",
       " ['presbyopic', 'hyper', 'yes', 'reduced', 'no lenses'],\n",
       " ['presbyopic', 'hyper', 'yes', 'normal', 'no lenses']]"
      ]
     },
     "execution_count": 115,
     "metadata": {},
     "output_type": "execute_result"
    }
   ],
   "source": [
    "lenses"
   ]
  },
  {
   "cell_type": "code",
   "execution_count": 116,
   "metadata": {
    "collapsed": true
   },
   "outputs": [],
   "source": [
    "lensesLabels = ['age', 'prescript', 'astigmatic', 'tearRate']"
   ]
  },
  {
   "cell_type": "code",
   "execution_count": 117,
   "metadata": {
    "collapsed": true
   },
   "outputs": [],
   "source": [
    "lensesTree = CreateNode(lenses, lensesLabels)"
   ]
  },
  {
   "cell_type": "code",
   "execution_count": 118,
   "metadata": {},
   "outputs": [
    {
     "data": {
      "text/plain": [
       "{'tearRate': {'normal': {'astigmatic': {'no': {'age': {'pre': 'soft',\n",
       "      'presbyopic': {'prescript': {'hyper': 'soft', 'myope': 'no lenses'}},\n",
       "      'young': 'soft'}},\n",
       "    'yes': {'prescript': {'hyper': {'age': {'pre': 'no lenses',\n",
       "        'presbyopic': 'no lenses',\n",
       "        'young': 'hard'}},\n",
       "      'myope': 'hard'}}}},\n",
       "  'reduced': 'no lenses'}}"
      ]
     },
     "execution_count": 118,
     "metadata": {},
     "output_type": "execute_result"
    }
   ],
   "source": [
    "lensesTree"
   ]
  },
  {
   "cell_type": "code",
   "execution_count": 119,
   "metadata": {},
   "outputs": [
    {
     "name": "stdout",
     "output_type": "stream",
     "text": [
      "(0.5, 1.0)\n",
      "(0.5555555555555556, 0.8)\n",
      "(0.33333333333333337, 0.6000000000000001)\n",
      "(0.2777777777777778, 0.4000000000000001)\n",
      "(0.7777777777777778, 0.6000000000000001)\n",
      "(0.7777777777777778, 0.4000000000000001)\n"
     ]
    },
    {
     "data": {
      "image/png": "[encoded data removed]",
      "text/plain": [
       "<matplotlib.figure.Figure at 0x10dbed790>"
      ]
     },
     "metadata": {},
     "output_type": "display_data"
    }
   ],
   "source": [
    "CreatePlot(lensesTree)"
   ]
  },
  {
   "cell_type": "code",
   "execution_count": null,
   "metadata": {
    "collapsed": true
   },
   "outputs": [],
   "source": []
  }
 ],
 "metadata": {
  "kernelspec": {
   "display_name": "Python 2",
   "language": "python",
   "name": "python2"
  },
  "language_info": {
   "codemirror_mode": {
    "name": "ipython",
    "version": 2
   },
   "file_extension": ".py",
   "mimetype": "text/x-python",
   "name": "python",
   "nbconvert_exporter": "python",
   "pygments_lexer": "ipython2",
   "version": "2.7.14"
  }
 },
 "nbformat": 4,
 "nbformat_minor": 2
}
